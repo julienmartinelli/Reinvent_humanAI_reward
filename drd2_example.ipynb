{
 "cells": [
  {
   "cell_type": "code",
   "execution_count": 1,
   "metadata": {},
   "outputs": [],
   "source": [
    "%load_ext autoreload\n",
    "%autoreload 2"
   ]
  },
  {
   "cell_type": "code",
   "execution_count": 2,
   "metadata": {},
   "outputs": [
    {
     "name": "stderr",
     "output_type": "stream",
     "text": [
      "<frozen importlib._bootstrap>:228: RuntimeWarning: scipy._lib.messagestream.MessageStream size changed, may indicate binary incompatibility. Expected 56 from C header, got 64 from PyObject\n"
     ]
    }
   ],
   "source": [
    "import warnings\n",
    "import json\n",
    "import torch\n",
    "import pandas as pd\n",
    "import matplotlib.pyplot as plt\n",
    "import numpy as np\n",
    "\n",
    "import torch.nn as nn\n",
    "import torch.optim as optim\n",
    "\n",
    "from helpers.utils import get_metrics, set_matplotlib_params\n",
    "from networks.nonlinearnet_aihuman import NonLinearNetDefer, optimization_loop\n",
    "\n",
    "set_matplotlib_params()\n",
    "warnings.filterwarnings('ignore')\n",
    "seed = 12\n",
    "device = torch.device(\"cuda:0\" if torch.cuda.is_available() else \"cpu\")\n",
    "torch.manual_seed(seed)\n",
    "rng = np.random.default_rng(seed) "
   ]
  },
  {
   "cell_type": "code",
   "execution_count": 3,
   "metadata": {},
   "outputs": [
    {
     "name": "stdout",
     "output_type": "stream",
     "text": [
      "Train size: (21302, 2052)\n",
      "Train undersampled size: (20, 2053)\n",
      "Train undersampled human size: (20, 2053)\n"
     ]
    }
   ],
   "source": [
    "drd2_train = pd.read_csv(\"datasets/drd2_train_ECFP_counts.csv\")\n",
    "drd2_train_undersampled = pd.read_csv(\"datasets/drd2_train_undersampled_ECFP_counts.csv\")\n",
    "drd2_test = pd.read_csv(\"datasets/drd2_test_ECFP_counts.csv\")\n",
    "\n",
    "### keeping some of the samples to create the AL pool. npool is the number of samples we REMOVE from the training set\n",
    "npool = 2400\n",
    "idxpool = rng.choice(range(len(drd2_train_undersampled)), npool, replace=False)\n",
    "pool = drd2_train_undersampled.iloc[idxpool]\n",
    "drd2_train_undersampled.drop(idxpool, axis=0, inplace=True)\n",
    "d = 2048\n",
    "\n",
    "npts_more_human = 0\n",
    "keep_pool = np.random.choice(pool.index, npts_more_human, replace=False)\n",
    "drd2_train_undersampled_h = pd.concat((drd2_train_undersampled, pool.iloc[keep_pool]))\n",
    "\n",
    "print(f\"Train size: {drd2_train.shape}\")\n",
    "print(f\"Train undersampled size: {drd2_train_undersampled.shape}\")\n",
    "print(f\"Train undersampled human size: {drd2_train_undersampled.shape}\")"
   ]
  },
  {
   "cell_type": "code",
   "execution_count": 4,
   "metadata": {},
   "outputs": [],
   "source": [
    "drd2_train_undersampled[\"activity_y\"] = drd2_train_undersampled.activity.values.tolist()\n",
    "drd2_train_undersampled_h[\"activity_h\"] = drd2_train_undersampled_h.activity.values.tolist()\n",
    "\n",
    "drd2_test[\"activity_y\"] = drd2_test.activity.values.tolist()\n",
    "drd2_test[\"activity_h\"] = drd2_test.activity.values.tolist()"
   ]
  },
  {
   "cell_type": "code",
   "execution_count": 5,
   "metadata": {},
   "outputs": [
    {
     "name": "stdout",
     "output_type": "stream",
     "text": [
      "Test size: torch.Size([930, 2048])\n"
     ]
    }
   ],
   "source": [
    "train_features = drd2_train_undersampled[[f\"bit{i}\" for i in range(d)]].values\n",
    "train_features_h = drd2_train_undersampled_h[[f\"bit{i}\" for i in range(d)]].values\n",
    "train_labels = drd2_train_undersampled[[\"activity_y\"]].values\n",
    "train_labels_h = drd2_train_undersampled_h[[\"activity_h\"]].values\n",
    "\n",
    "test_features = drd2_test[[f\"bit{i}\" for i in range(d)]].values\n",
    "test_labels = drd2_test[[\"activity_y\", \"activity_h\"]].values\n",
    "\n",
    "X_train = torch.tensor(train_features, dtype=torch.float32)\n",
    "X_train_h = torch.tensor(train_features_h, dtype=torch.float32)\n",
    "y_train = torch.tensor(train_labels, dtype=torch.float32)\n",
    "h_train = torch.tensor(train_labels_h, dtype=torch.float32)\n",
    "\n",
    "X_test = torch.tensor(test_features, dtype=torch.float32)\n",
    "y_test = torch.tensor(test_labels, dtype=torch.float32)\n",
    "\n",
    "idx_active = torch.where(y_test[:, 0])[0].numpy()\n",
    "idx_inactive = [i for i in range(len(y_test)) if i not in idx_active]\n",
    "idx_inactive = np.random.choice(range(len(y_test)), 600, replace=False)\n",
    "idx = np.r_[idx_active,idx_inactive]\n",
    "y_test = y_test[idx]\n",
    "X_test = X_test[idx]\n",
    "print(f\"Test size: {X_test.shape}\")"
   ]
  },
  {
   "cell_type": "code",
   "execution_count": 6,
   "metadata": {},
   "outputs": [],
   "source": [
    "# example usage:\n",
    "num_features = train_features.shape[1]  # number of input features\n",
    "num_epochs = 100\n",
    "lr = 0.1\n",
    "\n",
    "# create an instance of the NonLinearNetDefer\n",
    "l2d_model = NonLinearNetDefer(num_features)\n",
    "\n",
    "# define the loss function and optimizer for the l2d_model\n",
    "criterion = nn.BCEWithLogitsLoss()  # use BCEWithLogitsLoss for binary classification\n",
    "optimizer = optim.SGD(l2d_model.parameters(), lr=lr)"
   ]
  },
  {
   "cell_type": "code",
   "execution_count": 7,
   "metadata": {},
   "outputs": [],
   "source": [
    "X = X_train\n",
    "X_h = X_train_h\n",
    "\n",
    "# binary labels for classifier 1 and classifier 2 (or human model)\n",
    "y = y_train[:,0].unsqueeze(1)\n",
    "h = h_train[:,0].unsqueeze(1) "
   ]
  },
  {
   "cell_type": "code",
   "execution_count": 8,
   "metadata": {},
   "outputs": [],
   "source": [
    "# add random noise to h\n",
    "# oldh = torch.clone(h)\n",
    "# p =torch.bernoulli(0.1 *torch.ones(len(h))).unsqueeze(1)\n",
    "# h = p*h + (1-p)*(1-h)"
   ]
  },
  {
   "cell_type": "code",
   "execution_count": 9,
   "metadata": {},
   "outputs": [
    {
     "name": "stdout",
     "output_type": "stream",
     "text": [
      "Epoch [10/100], Loss: 2.3367087841033936\n",
      "Epoch [20/100], Loss: 2.113410234451294\n",
      "Epoch [30/100], Loss: 2.0132575035095215\n",
      "Epoch [40/100], Loss: 1.9502911567687988\n",
      "Epoch [50/100], Loss: 1.917095422744751\n",
      "Epoch [60/100], Loss: 1.8996949195861816\n",
      "Epoch [70/100], Loss: 1.8896538019180298\n",
      "Epoch [80/100], Loss: 1.883344292640686\n",
      "Epoch [90/100], Loss: 1.879099726676941\n",
      "Epoch [100/100], Loss: 1.8760886192321777\n"
     ]
    }
   ],
   "source": [
    "optimization_loop(num_epochs, optimizer, l2d_model, X, X_h, y, h, criterion)"
   ]
  },
  {
   "cell_type": "code",
   "execution_count": 10,
   "metadata": {},
   "outputs": [
    {
     "name": "stdout",
     "output_type": "stream",
     "text": [
      "{\n",
      "  \"clf_1\": {\n",
      "    \"Accuracy\": 0.9118279569892473,\n",
      "    \"Precision\": 0.9279665898617512,\n",
      "    \"Recall\": 0.9118279569892473,\n",
      "    \"F1-Score\": 0.9128129806350986\n",
      "  },\n",
      "  \"clf_2\": {\n",
      "    \"Accuracy\": 0.9419354838709677,\n",
      "    \"Precision\": 0.9452671941570299,\n",
      "    \"Recall\": 0.9419354838709677,\n",
      "    \"F1-Score\": 0.942321839714061\n",
      "  },\n",
      "  \"system\": {\n",
      "    \"Accuracy\": 0.9419354838709677,\n",
      "    \"Precision\": 0.9452671941570299,\n",
      "    \"Recall\": 0.9419354838709677,\n",
      "    \"F1-Score\": 0.942321839714061\n",
      "  }\n",
      "}\n",
      "Percentage of deferral: 0.6118279695510864\n"
     ]
    }
   ],
   "source": [
    "y = y_test[:,0].unsqueeze(1)\n",
    "h = y_test[:,0].unsqueeze(1) # y = h\n",
    "metrics = {}\n",
    "labels = [y, h]\n",
    "\n",
    "with torch.no_grad():\n",
    "    l2d_model.eval()\n",
    "    combined_outputs, decision_outputs = l2d_model(X_test)\n",
    "    pred_clf = (combined_outputs > 0.5).float()\n",
    "    for i in range(2):\n",
    "        metrics[f\"clf_{i+1}\"] = get_metrics(labels[i], pred_clf[:, i])\n",
    "    boolean = (decision_outputs[:, -1] > decision_outputs[:, 0]) * (decision_outputs[:, 1] > decision_outputs[:, 0]) * 1.\n",
    "\n",
    "    final_predictions = (boolean * pred_clf[:, 1]) + (1 - boolean) * pred_clf[:, 0]\n",
    "    metrics[f\"system\"] = get_metrics(labels[0], final_predictions)\n",
    "print (json.dumps(metrics, indent=2, default=str))\n",
    "print(f\"Percentage of deferral: {boolean.mean()}\")"
   ]
  }
 ],
 "metadata": {
  "kernelspec": {
   "display_name": "Python 3",
   "language": "python",
   "name": "python3"
  },
  "language_info": {
   "codemirror_mode": {
    "name": "ipython",
    "version": 3
   },
   "file_extension": ".py",
   "mimetype": "text/x-python",
   "name": "python",
   "nbconvert_exporter": "python",
   "pygments_lexer": "ipython3",
   "version": "3.9.13"
  },
  "orig_nbformat": 4
 },
 "nbformat": 4,
 "nbformat_minor": 2
}
